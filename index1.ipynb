{
 "cells": [
  {
   "cell_type": "markdown",
   "id": "afa24915-1cd0-4430-8e07-592260c0a3d4",
   "metadata": {},
   "source": [
    "hw1"
   ]
  },
  {
   "cell_type": "markdown",
   "id": "479676a6-366c-49e5-8732-1b997399211f",
   "metadata": {},
   "source": [
    "step 1"
   ]
  },
  {
   "cell_type": "code",
   "execution_count": 4,
   "id": "9d24d7ec-0d03-44cd-8a6c-7d3254aa4a8a",
   "metadata": {},
   "outputs": [],
   "source": [
    "x = 10\n",
    "y = 200\n",
    "z = x+y"
   ]
  },
  {
   "cell_type": "code",
   "execution_count": 6,
   "id": "9969fd5a-972c-4f77-988d-f72c8acf5a81",
   "metadata": {},
   "outputs": [
    {
     "data": {
      "text/plain": [
       "210"
      ]
     },
     "execution_count": 6,
     "metadata": {},
     "output_type": "execute_result"
    }
   ],
   "source": [
    "z"
   ]
  },
  {
   "cell_type": "markdown",
   "id": "64de5b63-3b0a-40a7-9f05-4c41d32dd221",
   "metadata": {},
   "source": [
    "step 2\n"
   ]
  },
  {
   "cell_type": "code",
   "execution_count": null,
   "id": "281fd5f2-8f6f-46d3-8b56-102f788f5165",
   "metadata": {},
   "outputs": [],
   "source": []
  }
 ],
 "metadata": {
  "kernelspec": {
   "display_name": "Python 3 (ipykernel)",
   "language": "python",
   "name": "python3"
  },
  "language_info": {
   "codemirror_mode": {
    "name": "ipython",
    "version": 3
   },
   "file_extension": ".py",
   "mimetype": "text/x-python",
   "name": "python",
   "nbconvert_exporter": "python",
   "pygments_lexer": "ipython3",
   "version": "3.12.8"
  }
 },
 "nbformat": 4,
 "nbformat_minor": 5
}
